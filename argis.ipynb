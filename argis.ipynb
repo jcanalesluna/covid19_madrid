{
 "cells": [
  {
   "cell_type": "code",
   "execution_count": 10,
   "metadata": {},
   "outputs": [],
   "source": [
    "import pandas as pd\n",
    "from datetime import date\n",
    "import json\n",
    "import numpy\n",
    "import requests\n",
    "import datetime as dt"
   ]
  },
  {
   "cell_type": "markdown",
   "metadata": {},
   "source": [
    "# Municipios"
   ]
  },
  {
   "cell_type": "code",
   "execution_count": 107,
   "metadata": {},
   "outputs": [],
   "source": [
    "municipios_distritos=pd.read_csv('municipios_distritos.csv')"
   ]
  },
  {
   "cell_type": "code",
   "execution_count": 114,
   "metadata": {},
   "outputs": [],
   "source": [
    "def get_municipios(date):\n",
    "    \n",
    "    data= requests.get(\"https://services1.arcgis.com/7bh7e06dYKE4ZqXL/arcgis/rest/services/Municipios_y_Distritos_Automatizado/FeatureServer/0/query?where=OBJECTID+%3E+1&objectIds=&time=&geometry=&geometryType=esriGeometryEnvelope&inSR=&spatialRel=esriSpatialRelIntersects&resultType=none&distance=0.0&units=esriSRUnit_Meter&returnGeodetic=false&outFields=*&returnGeometry=false&returnCentroid=false&featureEncoding=esriDefault&multipatchOption=xyFootprint&maxAllowableOffset=&geometryPrecision=&outSR=&datumTransformation=&applyVCSProjection=false&returnIdsOnly=false&returnUniqueIdsOnly=false&returnCountOnly=false&returnExtentOnly=false&returnQueryGeometry=false&returnDistinctValues=false&cacheHint=false&orderByFields=&groupByFieldsForStatistics=&outStatistics=&having=&resultOffset=&resultRecordCount=&returnZ=false&returnM=false&returnExceededLimitFeatures=false&quantizationParameters=&sqlFormat=none&f=pjson&token=\")\n",
    "    municipios= data.json()\n",
    "    municipios=municipios['features']\n",
    "    \n",
    "    m = []\n",
    "    for municipio in municipios:\n",
    "        m.append(municipio['attributes'])\n",
    "\n",
    "    municipios= pd.DataFrame(m)\n",
    "    municipios = municipios[['municipio_distrito','fecha_informe', 'tasa_inc_acum_ult_14dias','tasa_inc_acum_total',\n",
    "                         'casos_confirmados_totales']]\n",
    "    \n",
    "    municipios['fecha_informe']= date\n",
    "    municipios['fecha_informe']= pd.to_datetime(municipios['fecha_informe'])\n",
    "    municipios['fecha_informe'] = municipios['fecha_informe'].dt.date\n",
    "    \n",
    "    \n",
    "    return municipios"
   ]
  },
  {
   "cell_type": "code",
   "execution_count": 115,
   "metadata": {},
   "outputs": [],
   "source": [
    "last_update= get_municipios(date='2020.12.01')"
   ]
  },
  {
   "cell_type": "code",
   "execution_count": 116,
   "metadata": {},
   "outputs": [],
   "source": [
    "municipios_distritos= municipios_distritos.append(last_update)"
   ]
  },
  {
   "cell_type": "code",
   "execution_count": 119,
   "metadata": {},
   "outputs": [],
   "source": [
    "municipios_distritos.to_csv(\"municipios_distritos.csv\", index=False, encoding='UTF-8')  "
   ]
  },
  {
   "cell_type": "markdown",
   "metadata": {},
   "source": [
    "## Zonas básicas"
   ]
  },
  {
   "cell_type": "code",
   "execution_count": 120,
   "metadata": {},
   "outputs": [],
   "source": [
    "areas_salud=pd.read_csv('areas_salud.csv')"
   ]
  },
  {
   "cell_type": "code",
   "execution_count": 131,
   "metadata": {},
   "outputs": [],
   "source": [
    "def get_zones(date):\n",
    "    \n",
    "    data= requests.get(\"https://services1.arcgis.com/7bh7e06dYKE4ZqXL/arcgis/rest/services/Zonas_Basicas_de_Salud_Automatizado/FeatureServer/0/query?where=OBJECTID+%3E+1&objectIds=&time=&geometry=&geometryType=esriGeometryEnvelope&inSR=&spatialRel=esriSpatialRelIntersects&resultType=none&distance=0.0&units=esriSRUnit_Meter&returnGeodetic=false&outFields=*&returnGeometry=false&returnCentroid=false&featureEncoding=esriDefault&multipatchOption=xyFootprint&maxAllowableOffset=&geometryPrecision=&outSR=&datumTransformation=&applyVCSProjection=false&returnIdsOnly=false&returnUniqueIdsOnly=false&returnCountOnly=false&returnExtentOnly=false&returnQueryGeometry=false&returnDistinctValues=false&cacheHint=false&orderByFields=&groupByFieldsForStatistics=&outStatistics=&having=&resultOffset=&resultRecordCount=&returnZ=false&returnM=false&returnExceededLimitFeatures=true&quantizationParameters=&sqlFormat=none&f=pjson&token=\")\n",
    "    zones= data.json()\n",
    "    zones=zones['features']\n",
    "    \n",
    "    z = []\n",
    "    for zone in zones:\n",
    "        z.append(zone['attributes'])\n",
    "\n",
    "    zones= pd.DataFrame(z)\n",
    "    zones = zones[['casos_conf_ult_14dias','casos_confirmados_totales', 'zona_basic', 'fecha_informe',\n",
    "                'tasa_inc_acum_ult_14dias', 'tasa_inc_acum_total']]\n",
    "    \n",
    "    zones['fecha_informe']= date\n",
    "    zones['fecha_informe']= pd.to_datetime(zones['fecha_informe'])\n",
    "    zones['fecha_informe'] = zones['fecha_informe'].dt.date\n",
    "    \n",
    "    \n",
    "    return zones"
   ]
  },
  {
   "cell_type": "code",
   "execution_count": 132,
   "metadata": {},
   "outputs": [],
   "source": [
    "last_update=get_zones(date='2020.12.01')"
   ]
  },
  {
   "cell_type": "code",
   "execution_count": 133,
   "metadata": {},
   "outputs": [],
   "source": [
    "areas_salud = areas_salud.append(last_update)"
   ]
  },
  {
   "cell_type": "code",
   "execution_count": 83,
   "metadata": {},
   "outputs": [],
   "source": [
    "areas_salud.to_csv(\"areas_salud.csv\", index=False, encoding='UTF-8')  "
   ]
  },
  {
   "cell_type": "markdown",
   "metadata": {},
   "source": [
    "# Teoria\n",
    "\n",
    "Lo primero, coger el ID del mapa"
   ]
  },
  {
   "cell_type": "code",
   "execution_count": 122,
   "metadata": {},
   "outputs": [
    {
     "data": {
      "text/html": [
       "<div class=\"item_container\" style=\"height: auto; overflow: hidden; border: 1px solid #cfcfcf; border-radius: 2px; background: #f6fafa; line-height: 1.21429em; padding: 10px;\">\n",
       "                    <div class=\"item_left\" style=\"width: 210px; float: left;\">\n",
       "                       <a href='https://www.arcgis.com/home/item.html?id=7db220dc2e0a40b4a928df661a89762e' target='_blank'>\n",
       "                        <img src='https://www.arcgis.com/sharing/rest//content/items/7db220dc2e0a40b4a928df661a89762e/info/thumbnail/ago_downloaded.png' class=\"itemThumbnail\">\n",
       "                       </a>\n",
       "                    </div>\n",
       "\n",
       "                    <div class=\"item_right\"     style=\"float: none; width: auto; overflow: hidden;\">\n",
       "                        <a href='https://www.arcgis.com/home/item.html?id=7db220dc2e0a40b4a928df661a89762e' target='_blank'><b>Acceso Mapa covid19_tia_zonas_basicas_salud</b>\n",
       "                        </a>\n",
       "                        <br/>Visor de consulta dinámica de información epidemiológica de seguimiento de la epidemia de Covid-19 en zonas básicas de salud de la Comunidad de Madrid.<img src='https://www.arcgis.com/home/js/jsapi/esri/css/images/item_type_icons/layers16.png' style=\"vertical-align:middle;\">Web Mapping Application by dgsp.Sanidad\n",
       "                        <br/>Last Modified: noviembre 25, 2020\n",
       "                        <br/>0 comments, 6.593.646 views\n",
       "                    </div>\n",
       "                </div>\n",
       "                "
      ],
      "text/plain": [
       "<Item title:\"Acceso Mapa covid19_tia_zonas_basicas_salud\" type:Web Mapping Application owner:dgsp.Sanidad>"
      ]
     },
     "execution_count": 122,
     "metadata": {},
     "output_type": "execute_result"
    }
   ],
   "source": [
    "webmap = gis.content.get('7db220dc2e0a40b4a928df661a89762e')\n",
    "webmap"
   ]
  },
  {
   "cell_type": "markdown",
   "metadata": {},
   "source": [
    "### Lo segundo, buscar los items del mapa y fijarse en la clave del valor \"webmap\""
   ]
  },
  {
   "cell_type": "code",
   "execution_count": 123,
   "metadata": {},
   "outputs": [],
   "source": [
    "r = requests.get('https://www.arcgis.com/sharing/rest/content/items/7db220dc2e0a40b4a928df661a89762e/data')"
   ]
  },
  {
   "cell_type": "code",
   "execution_count": 124,
   "metadata": {},
   "outputs": [
    {
     "data": {
      "text/plain": [
       "'{\"source\":\"95ccb288429b4127a07c0d8a8a65b4d5\",\"folderId\":null,\"values\":{\"enableBasemapToggle\":true,\"enableScalebar\":true,\"twitterSearch\":\"\",\"youtubeVisible\":false,\"locationSearch\":true,\"flickrVisible\":false,\"enableLocateButton\":true,\"enableAboutPanel\":false,\"enableBookmarks\":false,\"enableHomeButton\":true,\"defaultPanel\":\"legend\",\"openOverviewMap\":false,\"title\":\"COVID-19 Situación epidemiológica por zonas de salud 24/11/2020\",\"flickrTime\":\"all_time\",\"twitterVisible\":true,\"defaultBasemap\":\"gray\",\"enableViewsCount\":true,\"enablePrintButton\":false,\"enableLegendPanel\":true,\"dialogModalContent\":\"\",\"flickrSearch\":\"\",\"youtubeSearch\":\"\",\"swipeInvertPlacement\":false,\"enableFlickr\":false,\"dialogModalTitle\":\"\",\"enableSummaryInfo\":false,\"enableOverviewMap\":true,\"webcamsVisible\":false,\"enableTwitter\":false,\"enableInstagram\":true,\"enableShareDialog\":false,\"enableWebcams\":false,\"enableYouTube\":false,\"youtubeTime\":\"all_time\",\"enableDialogModal\":false,\"swipeType\":\"vertical\",\"hideNotesLayerPopups\":true,\"instagramVisible\":false,\"nextBasemap\":\"hybrid\",\"webmap\":\"d5e7be360ec2404eaed6a16a9801ed0a\",\"searchConfig\":{\"sources\":[{\"locator\":{\"url\":\"https://geocode.arcgis.com/arcgis/rest/services/World/GeocodeServer\",\"_url\":{\"path\":\"https://geocode.arcgis.com/arcgis/rest/services/World/GeocodeServer\",\"query\":null},\"normalization\":true},\"url\":\"https://geocode.arcgis.com/arcgis/rest/services/World/GeocodeServer\",\"northLat\":\"Ymax\",\"southLat\":\"Ymin\",\"eastLon\":\"Xmax\",\"westLon\":\"Xmin\",\"name\":\"Esri World Geocoder\",\"placefinding\":true,\"batch\":true,\"enableSuggestions\":true,\"singleLineFieldName\":\"SingleLine\",\"enable\":true,\"id\":\"dojoUnique4\"},{\"flayerId\":\"Zonas_Basicas_de_Salud_2904\",\"url\":\"https://services1.arcgis.com/7bh7e06dYKE4ZqXL/arcgis/rest/services/Zonas_Basicas_de_Salud/FeatureServer/0\",\"name\":\"Zonas_Basicas_de_Salud\",\"id\":\"dojoUnique5\",\"enable\":true,\"placeholder\":\"\",\"searchFields\":[]}],\"activeSourceIndex\":0,\"enableSearchingAll\":false},\"enableLayersPanel\":false,\"enableMoreInfo\":false}}'"
      ]
     },
     "execution_count": 124,
     "metadata": {},
     "output_type": "execute_result"
    }
   ],
   "source": [
    "r.text"
   ]
  },
  {
   "cell_type": "markdown",
   "metadata": {},
   "source": [
    "### Luego, fijarse en la url que apaerece ene l operationalLayers"
   ]
  },
  {
   "cell_type": "code",
   "execution_count": 13,
   "metadata": {},
   "outputs": [
    {
     "data": {
      "text/plain": [
       "'{\"operationalLayers\":[{\"id\":\"Zonas_Basicas_de_Salud_Automatizado_6172_854\",\"layerType\":\"ArcGISFeatureLayer\",\"url\":\"https://services1.arcgis.com/7bh7e06dYKE4ZqXL/arcgis/rest/services/Zonas_Basicas_de_Salud_Automatizado/FeatureServer/0\",\"visibility\":true,\"opacity\":0.52,\"title\":\"Zonas Basicas de Salud\",\"itemId\":\"e3c41f4cb7324b56a6e8e8eb1a5238df\"}],\"baseMap\":{\"baseMapLayers\":[{\"id\":\"World_Light_Gray_Base_1486\",\"layerType\":\"ArcGISTiledMapServiceLayer\",\"url\":\"https://services.arcgisonline.com/ArcGIS/rest/services/Canvas/World_Light_Gray_Base/MapServer\",\"visibility\":true,\"opacity\":1,\"title\":\"Base Lona gris claro mundial\"}],\"title\":\"Lona gris claro\"},\"spatialReference\":{\"wkid\":102100,\"latestWkid\":3857},\"authoringApp\":\"WebMapViewer\",\"authoringAppVersion\":\"8.3\",\"version\":\"2.18\"}'"
      ]
     },
     "execution_count": 13,
     "metadata": {},
     "output_type": "execute_result"
    }
   ],
   "source": [
    "i = requests.get('https://www.arcgis.com/sharing/rest/content/items/d5e7be360ec2404eaed6a16a9801ed0a/data')\n",
    "i.text\n"
   ]
  },
  {
   "cell_type": "markdown",
   "metadata": {},
   "source": [
    "Acceder a la web y hacer la query con los parámetros:\n",
    "* Field\tValue\n",
    "* Where:\tOBJECTID > 0\n",
    "* Out Fields:\t*\n",
    "* Return Geometry:\tFalse"
   ]
  },
  {
   "cell_type": "code",
   "execution_count": 19,
   "metadata": {},
   "outputs": [
    {
     "data": {
      "text/plain": [
       "'{\"source\": \"95ccb288429b4127a07c0d8a8a65b4d5\", \"folderId\": null, \"values\": {\"enableBasemapToggle\": true, \"enableScalebar\": true, \"twitterSearch\": \"\", \"youtubeVisible\": false, \"locationSearch\": true, \"flickrVisible\": false, \"enableLocateButton\": true, \"enableAboutPanel\": false, \"enableBookmarks\": false, \"enableHomeButton\": true, \"defaultPanel\": \"legend\", \"openOverviewMap\": false, \"title\": \"COVID-19 Situaci\\\\u00f3n epidemiol\\\\u00f3gica por municipios 24/11/2020\", \"flickrTime\": \"all_time\", \"twitterVisible\": false, \"defaultBasemap\": \"gray\", \"enableViewsCount\": true, \"enablePrintButton\": false, \"enableLegendPanel\": true, \"dialogModalContent\": \"\", \"flickrSearch\": \"\", \"youtubeSearch\": \"\", \"swipeInvertPlacement\": false, \"enableFlickr\": false, \"dialogModalTitle\": \"\", \"enableSummaryInfo\": false, \"enableOverviewMap\": true, \"webcamsVisible\": false, \"enableTwitter\": false, \"enableInstagram\": true, \"enableShareDialog\": false, \"enableWebcams\": false, \"enableYouTube\": false, \"youtubeTime\": \"all_time\", \"enableDialogModal\": false, \"swipeType\": \"vertical\", \"hideNotesLayerPopups\": true, \"instagramVisible\": false, \"nextBasemap\": \"hybrid\", \"webmap\": \"7acfe1f4123649c8b870deff65d0f782\", \"searchConfig\": {\"sources\": [{\"locator\": {\"url\": \"https://geocode.arcgis.com/arcgis/rest/services/World/GeocodeServer\", \"_url\": {\"path\": \"https://geocode.arcgis.com/arcgis/rest/services/World/GeocodeServer\", \"query\": null}, \"normalization\": true}, \"url\": \"https://geocode.arcgis.com/arcgis/rest/services/World/GeocodeServer\", \"northLat\": \"Ymax\", \"southLat\": \"Ymin\", \"eastLon\": \"Xmax\", \"westLon\": \"Xmin\", \"name\": \"Esri World Geocoder\", \"placefinding\": true, \"batch\": true, \"enableSuggestions\": true, \"singleLineFieldName\": \"SingleLine\", \"enable\": true, \"id\": \"dojoUnique3\", \"searchWithinMap\": true, \"placeholder\": \"\", \"countryCode\": \"ESP\"}, {\"flayerId\": \"Municipios_y_Distritos_Automatizado_2061_7543\", \"url\": \"https://services1.arcgis.com/7bh7e06dYKE4ZqXL/arcgis/rest/services/Municipios_y_Distritos_Automatizado/FeatureServer/0\", \"name\": \"Municipios y Distritos\", \"id\": \"dojoUnique4\", \"enable\": true, \"enableSuggestions\": true, \"searchWithinMap\": true, \"placeholder\": \"\", \"searchFields\": [\"municipio_distrito\"], \"displayField\": \"municipio_distrito\", \"suggestionTemplate\": \"\"}], \"activeSourceIndex\": 1, \"enableSearchingAll\": false}, \"summary\": \"<span style=\\\\\"color:rgb(76, 76, 76); font-family:&quot;Avenir Next W01&quot;, &quot;Avenir Next W00&quot;, &quot;Avenir Next&quot;, Avenir, &quot;Helvetica Neue&quot;, sans-serif; font-size:16px; background-color:rgb(255, 255, 255);\\\\\">Visor de consulta din\\\\u00e1mica de informaci\\\\u00f3n epidemiol\\\\u00f3gica de seguimiento de la epidemia de Covid-19 en la Comunidad de Madrid.</span>\", \"enableLayersPanel\": false, \"enableMoreInfo\": false}}'"
      ]
     },
     "execution_count": 19,
     "metadata": {},
     "output_type": "execute_result"
    }
   ],
   "source": [
    "munici= requests.get('https://www.arcgis.com/sharing/rest/content/items/cdfb61b3eb3a49c2b990b4fdb41dfcfe/data')\n",
    "munici.text"
   ]
  },
  {
   "cell_type": "code",
   "execution_count": null,
   "metadata": {},
   "outputs": [],
   "source": []
  },
  {
   "cell_type": "code",
   "execution_count": 20,
   "metadata": {},
   "outputs": [
    {
     "data": {
      "text/plain": [
       "'{\"operationalLayers\":[{\"id\":\"Municipios_y_Distritos_Automatizado_2061_7543\",\"layerType\":\"ArcGISFeatureLayer\",\"url\":\"https://services1.arcgis.com/7bh7e06dYKE4ZqXL/arcgis/rest/services/Municipios_y_Distritos_Automatizado/FeatureServer/0\",\"visibility\":true,\"opacity\":0.5,\"title\":\"Municipios y Distritos\",\"itemId\":\"bee8fd8a853e441992d3ff19619ff9bc\"}],\"baseMap\":{\"baseMapLayers\":[{\"id\":\"World_Light_Gray_Base_1486\",\"layerType\":\"ArcGISTiledMapServiceLayer\",\"url\":\"https://services.arcgisonline.com/ArcGIS/rest/services/Canvas/World_Light_Gray_Base/MapServer\",\"visibility\":true,\"opacity\":1,\"title\":\"Base Lona gris claro mundial\",\"minScale\":5.91657527591555E8,\"maxScale\":70.5310735}],\"title\":\"Lona gris claro\"},\"spatialReference\":{\"wkid\":102100,\"latestWkid\":3857},\"authoringApp\":\"WebMapViewer\",\"authoringAppVersion\":\"8.3\",\"version\":\"2.18\",\"applicationProperties\":{\"viewing\":{\"search\":{\"enabled\":true,\"disablePlaceFinder\":true,\"hintText\":\"Lugar o dirección\",\"layers\":[{\"id\":\"Municipios_y_Distritos_Automatizado_2061_7543\",\"field\":{\"name\":\"municipio_distrito\",\"exactMatch\":false,\"type\":\"esriFieldTypeString\"}}]}}}}'"
      ]
     },
     "execution_count": 20,
     "metadata": {},
     "output_type": "execute_result"
    }
   ],
   "source": [
    "i = requests.get('https://www.arcgis.com/sharing/rest/content/items/7acfe1f4123649c8b870deff65d0f782/data')\n",
    "i.text\n"
   ]
  },
  {
   "cell_type": "code",
   "execution_count": null,
   "metadata": {},
   "outputs": [],
   "source": []
  },
  {
   "cell_type": "code",
   "execution_count": null,
   "metadata": {},
   "outputs": [],
   "source": []
  },
  {
   "cell_type": "code",
   "execution_count": null,
   "metadata": {},
   "outputs": [],
   "source": []
  },
  {
   "cell_type": "code",
   "execution_count": null,
   "metadata": {},
   "outputs": [],
   "source": []
  },
  {
   "cell_type": "code",
   "execution_count": 134,
   "metadata": {},
   "outputs": [],
   "source": [
    "x= requests.get(\"https://services1.arcgis.com/7bh7e06dYKE4ZqXL/arcgis/rest/services/Municipios_y_Distritos_Automatizado/FeatureServer/0/query?where=OBJECTID+%3E+1&objectIds=&time=&geometry=&geometryType=esriGeometryEnvelope&inSR=&spatialRel=esriSpatialRelIntersects&resultType=none&distance=0.0&units=esriSRUnit_Meter&returnGeodetic=false&outFields=*&returnGeometry=false&returnCentroid=false&featureEncoding=esriDefault&multipatchOption=xyFootprint&maxAllowableOffset=&geometryPrecision=&outSR=&datumTransformation=&applyVCSProjection=false&returnIdsOnly=false&returnUniqueIdsOnly=false&returnCountOnly=false&returnExtentOnly=false&returnQueryGeometry=false&returnDistinctValues=false&cacheHint=false&orderByFields=&groupByFieldsForStatistics=&outStatistics=&having=&resultOffset=&resultRecordCount=&returnZ=false&returnM=false&returnExceededLimitFeatures=false&quantizationParameters=&sqlFormat=none&f=pjson&token=\")\n",
    "municipios= x.json()"
   ]
  },
  {
   "cell_type": "code",
   "execution_count": 135,
   "metadata": {},
   "outputs": [
    {
     "data": {
      "text/plain": [
       "dict_keys(['objectIdFieldName', 'uniqueIdField', 'globalIdFieldName', 'geometryProperties', 'geometryType', 'spatialReference', 'fields', 'features'])"
      ]
     },
     "execution_count": 135,
     "metadata": {},
     "output_type": "execute_result"
    }
   ],
   "source": [
    "municipios.keys()"
   ]
  },
  {
   "cell_type": "code",
   "execution_count": 136,
   "metadata": {},
   "outputs": [],
   "source": [
    "municipios=municipios['features']"
   ]
  },
  {
   "cell_type": "code",
   "execution_count": 137,
   "metadata": {},
   "outputs": [],
   "source": [
    "m = []\n",
    "for muni in municipios:\n",
    "    m.append(muni['attributes'])\n"
   ]
  },
  {
   "cell_type": "code",
   "execution_count": 138,
   "metadata": {},
   "outputs": [],
   "source": [
    "municipios= pd.DataFrame(m)"
   ]
  },
  {
   "cell_type": "code",
   "execution_count": 139,
   "metadata": {},
   "outputs": [],
   "source": [
    "municipios = municipios[['municipio_distrito','fecha_informe', 'tasa_inc_acum_ult_14dias','tasa_inc_acum_total',\n",
    "                         'casos_confirmados_totales']]"
   ]
  },
  {
   "cell_type": "code",
   "execution_count": 171,
   "metadata": {},
   "outputs": [],
   "source": [
    "municipios['fecha_informe']= '2020-11-24'\t"
   ]
  },
  {
   "cell_type": "code",
   "execution_count": 172,
   "metadata": {},
   "outputs": [],
   "source": [
    "municipios['fecha_informe']= pd.to_datetime(municipios['fecha_informe'])"
   ]
  },
  {
   "cell_type": "code",
   "execution_count": 140,
   "metadata": {},
   "outputs": [],
   "source": [
    "municipios.to_csv(\"municipios_distritos.csv\", index=False)  "
   ]
  },
  {
   "cell_type": "code",
   "execution_count": null,
   "metadata": {},
   "outputs": [],
   "source": []
  },
  {
   "cell_type": "code",
   "execution_count": null,
   "metadata": {},
   "outputs": [],
   "source": []
  },
  {
   "cell_type": "code",
   "execution_count": null,
   "metadata": {},
   "outputs": [],
   "source": []
  },
  {
   "cell_type": "code",
   "execution_count": 180,
   "metadata": {},
   "outputs": [],
   "source": [
    "data= requests.get(\"https://services1.arcgis.com/7bh7e06dYKE4ZqXL/arcgis/rest/services/Zonas_Basicas_de_Salud_Automatizado/FeatureServer/0/query?where=OBJECTID+%3E+1&objectIds=&time=&geometry=&geometryType=esriGeometryEnvelope&inSR=&spatialRel=esriSpatialRelIntersects&resultType=none&distance=0.0&units=esriSRUnit_Meter&returnGeodetic=false&outFields=*&returnGeometry=false&returnCentroid=false&featureEncoding=esriDefault&multipatchOption=xyFootprint&maxAllowableOffset=&geometryPrecision=&outSR=&datumTransformation=&applyVCSProjection=false&returnIdsOnly=false&returnUniqueIdsOnly=false&returnCountOnly=false&returnExtentOnly=false&returnQueryGeometry=false&returnDistinctValues=false&cacheHint=false&orderByFields=&groupByFieldsForStatistics=&outStatistics=&having=&resultOffset=&resultRecordCount=&returnZ=false&returnM=false&returnExceededLimitFeatures=true&quantizationParameters=&sqlFormat=none&f=pjson&token=\")\n",
    "zones= data.json()"
   ]
  },
  {
   "cell_type": "code",
   "execution_count": 182,
   "metadata": {},
   "outputs": [],
   "source": [
    "zones= pd.DataFrame(z)"
   ]
  },
  {
   "cell_type": "code",
   "execution_count": 183,
   "metadata": {},
   "outputs": [],
   "source": [
    "zones = distri[['casos_conf_ult_14dias','casos_confirmados_totales', 'zona_basic', 'fecha_informe',\n",
    "                'tasa_inc_acum_ult_14dias', 'tasa_inc_acum_total']]"
   ]
  },
  {
   "cell_type": "code",
   "execution_count": 185,
   "metadata": {},
   "outputs": [],
   "source": [
    "zones['fecha_informe']= pd.to_datetime(zones['fecha_informe'])"
   ]
  },
  {
   "cell_type": "code",
   "execution_count": 187,
   "metadata": {},
   "outputs": [],
   "source": [
    "zones.to_csv(\"areas_salud.csv\", index=False, encoding='UTF-8')  "
   ]
  }
 ],
 "metadata": {
  "kernelspec": {
   "display_name": "Python 3",
   "language": "python",
   "name": "python3"
  },
  "language_info": {
   "codemirror_mode": {
    "name": "ipython",
    "version": 3
   },
   "file_extension": ".py",
   "mimetype": "text/x-python",
   "name": "python",
   "nbconvert_exporter": "python",
   "pygments_lexer": "ipython3",
   "version": "3.7.7"
  }
 },
 "nbformat": 4,
 "nbformat_minor": 4
}
