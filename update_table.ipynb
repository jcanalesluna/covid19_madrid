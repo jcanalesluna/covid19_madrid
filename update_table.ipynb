{
 "cells": [
  {
   "cell_type": "code",
   "execution_count": 10,
   "metadata": {},
   "outputs": [],
   "source": [
    "import pandas as pd\n",
    "from datetime import date\n",
    "import json\n",
    "import numpy\n",
    "import requests\n",
    "import datetime as dt"
   ]
  },
  {
   "cell_type": "markdown",
   "metadata": {},
   "source": [
    "# Municipios"
   ]
  },
  {
   "cell_type": "code",
   "execution_count": 107,
   "metadata": {},
   "outputs": [],
   "source": [
    "municipios_distritos=pd.read_csv('municipios_distritos.csv')"
   ]
  },
  {
   "cell_type": "code",
   "execution_count": 114,
   "metadata": {},
   "outputs": [],
   "source": [
    "def get_municipios(date):\n",
    "    \n",
    "    data= requests.get(\"https://services1.arcgis.com/7bh7e06dYKE4ZqXL/arcgis/rest/services/Municipios_y_Distritos_Automatizado/FeatureServer/0/query?where=OBJECTID+%3E+1&objectIds=&time=&geometry=&geometryType=esriGeometryEnvelope&inSR=&spatialRel=esriSpatialRelIntersects&resultType=none&distance=0.0&units=esriSRUnit_Meter&returnGeodetic=false&outFields=*&returnGeometry=false&returnCentroid=false&featureEncoding=esriDefault&multipatchOption=xyFootprint&maxAllowableOffset=&geometryPrecision=&outSR=&datumTransformation=&applyVCSProjection=false&returnIdsOnly=false&returnUniqueIdsOnly=false&returnCountOnly=false&returnExtentOnly=false&returnQueryGeometry=false&returnDistinctValues=false&cacheHint=false&orderByFields=&groupByFieldsForStatistics=&outStatistics=&having=&resultOffset=&resultRecordCount=&returnZ=false&returnM=false&returnExceededLimitFeatures=false&quantizationParameters=&sqlFormat=none&f=pjson&token=\")\n",
    "    municipios= data.json()\n",
    "    municipios=municipios['features']\n",
    "    \n",
    "    m = []\n",
    "    for municipio in municipios:\n",
    "        m.append(municipio['attributes'])\n",
    "\n",
    "    municipios= pd.DataFrame(m)\n",
    "    municipios = municipios[['municipio_distrito','fecha_informe', 'tasa_inc_acum_ult_14dias','tasa_inc_acum_total',\n",
    "                         'casos_confirmados_totales']]\n",
    "    \n",
    "    municipios['fecha_informe']= date\n",
    "    municipios['fecha_informe']= pd.to_datetime(municipios['fecha_informe'])\n",
    "    municipios['fecha_informe'] = municipios['fecha_informe'].dt.date\n",
    "    \n",
    "    \n",
    "    return municipios"
   ]
  },
  {
   "cell_type": "code",
   "execution_count": 115,
   "metadata": {},
   "outputs": [],
   "source": [
    "last_update= get_municipios(date='2020.12.01')"
   ]
  },
  {
   "cell_type": "code",
   "execution_count": 116,
   "metadata": {},
   "outputs": [],
   "source": [
    "municipios_distritos= municipios_distritos.append(last_update)"
   ]
  },
  {
   "cell_type": "code",
   "execution_count": 119,
   "metadata": {},
   "outputs": [],
   "source": [
    "municipios_distritos.to_csv(\"municipios_distritos.csv\", index=False, encoding='UTF-8')  "
   ]
  },
  {
   "cell_type": "markdown",
   "metadata": {},
   "source": [
    "# Zonas básicas"
   ]
  },
  {
   "cell_type": "code",
   "execution_count": 120,
   "metadata": {},
   "outputs": [],
   "source": [
    "areas_salud=pd.read_csv('areas_salud.csv')"
   ]
  },
  {
   "cell_type": "code",
   "execution_count": 131,
   "metadata": {},
   "outputs": [],
   "source": [
    "def get_zones(date):\n",
    "    \n",
    "    data= requests.get(\"https://services1.arcgis.com/7bh7e06dYKE4ZqXL/arcgis/rest/services/Zonas_Basicas_de_Salud_Automatizado/FeatureServer/0/query?where=OBJECTID+%3E+1&objectIds=&time=&geometry=&geometryType=esriGeometryEnvelope&inSR=&spatialRel=esriSpatialRelIntersects&resultType=none&distance=0.0&units=esriSRUnit_Meter&returnGeodetic=false&outFields=*&returnGeometry=false&returnCentroid=false&featureEncoding=esriDefault&multipatchOption=xyFootprint&maxAllowableOffset=&geometryPrecision=&outSR=&datumTransformation=&applyVCSProjection=false&returnIdsOnly=false&returnUniqueIdsOnly=false&returnCountOnly=false&returnExtentOnly=false&returnQueryGeometry=false&returnDistinctValues=false&cacheHint=false&orderByFields=&groupByFieldsForStatistics=&outStatistics=&having=&resultOffset=&resultRecordCount=&returnZ=false&returnM=false&returnExceededLimitFeatures=true&quantizationParameters=&sqlFormat=none&f=pjson&token=\")\n",
    "    zones= data.json()\n",
    "    zones=zones['features']\n",
    "    \n",
    "    z = []\n",
    "    for zone in zones:\n",
    "        z.append(zone['attributes'])\n",
    "\n",
    "    zones= pd.DataFrame(z)\n",
    "    zones = zones[['casos_conf_ult_14dias','casos_confirmados_totales', 'zona_basic', 'fecha_informe',\n",
    "                'tasa_inc_acum_ult_14dias', 'tasa_inc_acum_total']]\n",
    "    \n",
    "    zones['fecha_informe']= date\n",
    "    zones['fecha_informe']= pd.to_datetime(zones['fecha_informe'])\n",
    "    zones['fecha_informe'] = zones['fecha_informe'].dt.date\n",
    "    \n",
    "    \n",
    "    return zones"
   ]
  },
  {
   "cell_type": "code",
   "execution_count": 132,
   "metadata": {},
   "outputs": [],
   "source": [
    "last_update=get_zones(date='2020.12.01')"
   ]
  },
  {
   "cell_type": "code",
   "execution_count": 133,
   "metadata": {},
   "outputs": [],
   "source": [
    "areas_salud = areas_salud.append(last_update)"
   ]
  },
  {
   "cell_type": "code",
   "execution_count": 83,
   "metadata": {},
   "outputs": [],
   "source": [
    "areas_salud.to_csv(\"areas_salud.csv\", index=False, encoding='UTF-8')  "
   ]
  }
 ],
 "metadata": {
  "kernelspec": {
   "display_name": "Python 3",
   "language": "python",
   "name": "python3"
  },
  "language_info": {
   "codemirror_mode": {
    "name": "ipython",
    "version": 3
   },
   "file_extension": ".py",
   "mimetype": "text/x-python",
   "name": "python",
   "nbconvert_exporter": "python",
   "pygments_lexer": "ipython3",
   "version": "3.7.7"
  }
 },
 "nbformat": 4,
 "nbformat_minor": 4
}
